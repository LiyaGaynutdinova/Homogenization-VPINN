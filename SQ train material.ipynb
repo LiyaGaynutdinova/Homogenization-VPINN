{
 "cells": [
  {
   "cell_type": "code",
   "execution_count": 2,
   "metadata": {},
   "outputs": [
    {
     "name": "stdout",
     "output_type": "stream",
     "text": [
      "The autoreload extension is already loaded. To reload it, use:\n",
      "  %reload_ext autoreload\n"
     ]
    }
   ],
   "source": [
    "import numpy as np\n",
    "import gstools as gs\n",
    "import matplotlib.pyplot as plt\n",
    "%matplotlib inline\n",
    "from dataset import *\n",
    "from save_load import *\n",
    "from NN_library.MN.material_NN import *\n",
    "from NN_library.MN.train_MNN import *\n",
    "%load_ext autoreload\n",
    "%autoreload 2"
   ]
  },
  {
   "cell_type": "code",
   "execution_count": 3,
   "metadata": {},
   "outputs": [],
   "source": [
    "data = dataset_grid(129, [0, 2*np.pi], [0, 2*np.pi])\n",
    "loaders = get_loaders_Sobol(data, 129**2)"
   ]
  },
  {
   "cell_type": "code",
   "execution_count": 14,
   "metadata": {},
   "outputs": [
    {
     "data": {
      "text/plain": [
       "<matplotlib.collections.PathCollection at 0x223dea3dc50>"
      ]
     },
     "execution_count": 14,
     "metadata": {},
     "output_type": "execute_result"
    },
    {
     "data": {
      "image/png": "[encoded data removed]",
      "text/plain": [
       "<Figure size 640x480 with 2 Axes>"
      ]
     },
     "metadata": {},
     "output_type": "display_data"
    }
   ],
   "source": [
    "L = 2*np.pi\n",
    "N = 512 # number of nodes in each direction including the border\n",
    "x = np.linspace(0, L, N, endpoint=True)\n",
    "y = np.linspace(0, L, N, endpoint=True)\n",
    "\n",
    "XY = np.meshgrid(x, y)\n",
    "grid_data = torch.tensor(np.vstack((XY[0].flatten(), XY[1].flatten())).T, dtype=torch.float, device=dev)\n",
    "\n",
    "def a_function(x,y):\n",
    "    a = np.where((x>np.pi/2)&(x<3*np.pi/2)&(y>np.pi/2)&(y<3*np.pi/2), 0.1, 1)\n",
    "    return a\n",
    "\n",
    "def A(x):\n",
    "    a = torch.where((x[:,0]>torch.pi/2)&(x[:,0]<3*torch.pi/2)&(x[:,1]>torch.pi/2)&(x[:,1]<3*torch.pi/2), 0.1, 1)\n",
    "    return a.view(-1,1)\n",
    "\n",
    "Z = a_function(XY[0].flatten(),XY[1].flatten())\n",
    "plt.pcolormesh(XY[0], XY[1], Z.reshape(N, N))\n",
    "plt.colorbar()\n",
    "plt.scatter(data[:,0], data[:,1], s = 0.5, c='r')"
   ]
  },
  {
   "cell_type": "code",
   "execution_count": 12,
   "metadata": {},
   "outputs": [
    {
     "name": "stdout",
     "output_type": "stream",
     "text": [
      "Number of parameters: 16\n"
     ]
    }
   ],
   "source": [
    "net = Material_NN()\n",
    "total_params = sum(p.numel() for p in net.parameters())\n",
    "print(f\"Number of parameters: {total_params}\")\n",
    "args = {'lr' : 0.001, 'epochs' : 30000, 'dev' : dev, 'name' : f'NN_library/MN/MN_{total_params}'}"
   ]
  },
  {
   "cell_type": "code",
   "execution_count": 6,
   "metadata": {},
   "outputs": [],
   "source": [
    "net = load_network(net, args['name']+'_29999', args)\n",
    "net = net.to(dev)"
   ]
  },
  {
   "cell_type": "code",
   "execution_count": 15,
   "metadata": {},
   "outputs": [
    {
     "name": "stdout",
     "output_type": "stream",
     "text": [
      "Epoch: 99 mean train loss:  4.32229022e-05\n",
      "Epoch: 199 mean train loss:  3.65319414e-05\n",
      "Epoch: 299 mean train loss:  3.08185277e-05\n",
      "Epoch: 399 mean train loss:  2.73866329e-05\n",
      "Epoch: 499 mean train loss:  2.53168015e-05\n",
      "Epoch: 599 mean train loss:  2.35836965e-05\n",
      "Epoch: 699 mean train loss:  2.17439918e-05\n",
      "Epoch: 799 mean train loss:  1.97882191e-05\n",
      "Epoch: 899 mean train loss:  1.79104436e-05\n",
      "Epoch: 999 mean train loss:  1.63313163e-05\n",
      "Epoch: 1099 mean train loss:  1.51434338e-05\n",
      "Epoch: 1199 mean train loss:  1.42926940e-05\n",
      "Epoch: 1299 mean train loss:  1.36667440e-05\n",
      "Epoch: 1399 mean train loss:  1.31734261e-05\n",
      "Epoch: 1499 mean train loss:  1.27607058e-05\n",
      "Epoch: 1599 mean train loss:  1.24030842e-05\n",
      "Epoch: 1699 mean train loss:  1.20870571e-05\n",
      "Epoch: 1799 mean train loss:  1.18041374e-05\n",
      "Epoch: 1899 mean train loss:  1.15483274e-05\n",
      "Epoch: 1999 mean train loss:  1.13151606e-05\n",
      "Epoch: 2099 mean train loss:  1.11012236e-05\n",
      "Epoch: 2199 mean train loss:  1.09038631e-05\n",
      "Epoch: 2299 mean train loss:  1.07209919e-05\n",
      "Epoch: 2399 mean train loss:  1.05509319e-05\n",
      "Epoch: 2499 mean train loss:  1.03923157e-05\n",
      "Epoch: 2599 mean train loss:  1.02440061e-05\n",
      "Epoch: 2699 mean train loss:  1.01050388e-05\n",
      "Epoch: 2799 mean train loss:  9.97458264e-06\n",
      "Epoch: 2899 mean train loss:  9.85190438e-06\n",
      "Epoch: 2999 mean train loss:  9.73635837e-06\n",
      "Epoch: 3099 mean train loss:  9.62736257e-06\n",
      "Epoch: 3199 mean train loss:  9.52439045e-06\n",
      "Epoch: 3299 mean train loss:  9.42696205e-06\n",
      "Epoch: 3399 mean train loss:  9.33463503e-06\n",
      "Epoch: 3499 mean train loss:  9.24700821e-06\n",
      "Epoch: 3599 mean train loss:  9.16370641e-06\n",
      "Epoch: 3699 mean train loss:  9.08438310e-06\n",
      "Epoch: 3799 mean train loss:  9.00871589e-06\n",
      "Epoch: 3899 mean train loss:  8.93640125e-06\n",
      "Epoch: 3999 mean train loss:  8.86715262e-06\n",
      "Epoch: 4099 mean train loss:  8.80070496e-06\n",
      "Epoch: 4199 mean train loss:  8.73679679e-06\n",
      "Epoch: 4299 mean train loss:  8.67517828e-06\n",
      "Epoch: 4399 mean train loss:  8.61560050e-06\n",
      "Epoch: 4499 mean train loss:  8.55782346e-06\n",
      "Epoch: 4599 mean train loss:  8.50159824e-06\n",
      "Epoch: 4699 mean train loss:  8.44666515e-06\n",
      "Epoch: 4799 mean train loss:  8.39275019e-06\n",
      "Epoch: 4899 mean train loss:  8.33954621e-06\n",
      "Epoch: 4999 mean train loss:  8.28670489e-06\n",
      "Epoch: 5099 mean train loss:  8.23382238e-06\n",
      "Epoch: 5199 mean train loss:  8.18039096e-06\n",
      "Epoch: 5299 mean train loss:  8.12576411e-06\n",
      "Epoch: 5399 mean train loss:  8.06908758e-06\n",
      "Epoch: 5499 mean train loss:  8.00918207e-06\n",
      "Epoch: 5599 mean train loss:  7.94435158e-06\n",
      "Epoch: 5699 mean train loss:  7.87208171e-06\n",
      "Epoch: 5799 mean train loss:  7.78857934e-06\n",
      "Epoch: 5899 mean train loss:  7.68821566e-06\n",
      "Epoch: 5999 mean train loss:  7.56358085e-06\n",
      "Epoch: 6099 mean train loss:  7.40872151e-06\n",
      "Epoch: 6199 mean train loss:  7.22857559e-06\n",
      "Epoch: 6299 mean train loss:  7.04542992e-06\n",
      "Epoch: 6399 mean train loss:  6.88349296e-06\n",
      "Epoch: 6499 mean train loss:  6.75006887e-06\n",
      "Epoch: 6599 mean train loss:  6.64017538e-06\n",
      "Epoch: 6699 mean train loss:  6.54740063e-06\n",
      "Epoch: 6799 mean train loss:  6.46720380e-06\n",
      "Epoch: 6899 mean train loss:  6.39656947e-06\n",
      "Epoch: 6999 mean train loss:  6.33344616e-06\n",
      "Epoch: 7099 mean train loss:  6.27637205e-06\n",
      "Epoch: 7199 mean train loss:  6.22427395e-06\n",
      "Epoch: 7299 mean train loss:  6.17634506e-06\n",
      "Epoch: 7399 mean train loss:  6.13196349e-06\n",
      "Epoch: 7499 mean train loss:  6.09063675e-06\n",
      "Epoch: 7599 mean train loss:  6.05197441e-06\n",
      "Epoch: 7699 mean train loss:  6.01565501e-06\n",
      "Epoch: 7799 mean train loss:  5.98141395e-06\n",
      "Epoch: 7899 mean train loss:  5.94903005e-06\n",
      "Epoch: 7999 mean train loss:  5.91831616e-06\n",
      "Epoch: 8099 mean train loss:  5.88911334e-06\n",
      "Epoch: 8199 mean train loss:  5.86128369e-06\n",
      "Epoch: 8299 mean train loss:  5.83470812e-06\n",
      "Epoch: 8399 mean train loss:  5.80928454e-06\n",
      "Epoch: 8499 mean train loss:  5.78492027e-06\n",
      "Epoch: 8599 mean train loss:  5.76153474e-06\n",
      "Epoch: 8699 mean train loss:  5.73905674e-06\n",
      "Epoch: 8799 mean train loss:  5.71742359e-06\n",
      "Epoch: 8899 mean train loss:  5.69657710e-06\n",
      "Epoch: 8999 mean train loss:  5.67646443e-06\n",
      "Epoch: 9099 mean train loss:  5.65704394e-06\n",
      "Epoch: 9199 mean train loss:  5.63826638e-06\n",
      "Epoch: 9299 mean train loss:  5.62009773e-06\n",
      "Epoch: 9399 mean train loss:  5.60250305e-06\n",
      "Epoch: 9499 mean train loss:  5.58544834e-06\n",
      "Epoch: 9599 mean train loss:  5.56890492e-06\n",
      "Epoch: 9699 mean train loss:  5.55284684e-06\n",
      "Epoch: 9799 mean train loss:  5.53725126e-06\n",
      "Epoch: 9899 mean train loss:  5.52209176e-06\n",
      "Epoch: 9999 mean train loss:  5.50734820e-06\n",
      "Epoch: 10099 mean train loss:  5.49300088e-06\n",
      "Epoch: 10199 mean train loss:  5.47903232e-06\n",
      "Epoch: 10299 mean train loss:  5.46542330e-06\n",
      "Epoch: 10399 mean train loss:  5.45215946e-06\n",
      "Epoch: 10499 mean train loss:  5.43922515e-06\n",
      "Epoch: 10599 mean train loss:  5.42660694e-06\n",
      "Epoch: 10699 mean train loss:  5.41429183e-06\n",
      "Epoch: 10799 mean train loss:  5.40226551e-06\n",
      "Epoch: 10899 mean train loss:  5.39051902e-06\n",
      "Epoch: 10999 mean train loss:  5.37903936e-06\n",
      "Epoch: 11099 mean train loss:  5.36781984e-06\n",
      "Epoch: 11199 mean train loss:  5.35684656e-06\n",
      "Epoch: 11299 mean train loss:  5.34611148e-06\n",
      "Epoch: 11399 mean train loss:  5.33560697e-06\n",
      "Epoch: 11499 mean train loss:  5.32532408e-06\n",
      "Epoch: 11599 mean train loss:  5.31525611e-06\n",
      "Epoch: 11699 mean train loss:  5.30539408e-06\n",
      "Epoch: 11799 mean train loss:  5.29573219e-06\n",
      "Epoch: 11899 mean train loss:  5.28626282e-06\n",
      "Epoch: 11999 mean train loss:  5.27697971e-06\n",
      "Epoch: 12099 mean train loss:  5.26787747e-06\n",
      "Epoch: 12199 mean train loss:  5.25894985e-06\n",
      "Epoch: 12299 mean train loss:  5.25019191e-06\n",
      "Epoch: 12399 mean train loss:  5.24159829e-06\n",
      "Epoch: 12499 mean train loss:  5.23316316e-06\n",
      "Epoch: 12599 mean train loss:  5.22488206e-06\n",
      "Epoch: 12699 mean train loss:  5.21675093e-06\n",
      "Epoch: 12799 mean train loss:  5.20876532e-06\n",
      "Epoch: 12899 mean train loss:  5.20092030e-06\n",
      "Epoch: 12999 mean train loss:  5.19321228e-06\n",
      "Epoch: 13099 mean train loss:  5.18563767e-06\n",
      "Epoch: 13199 mean train loss:  5.17819291e-06\n",
      "Epoch: 13299 mean train loss:  5.17087307e-06\n",
      "Epoch: 13399 mean train loss:  5.16367680e-06\n",
      "Epoch: 13499 mean train loss:  5.15659872e-06\n",
      "Epoch: 13599 mean train loss:  5.14963706e-06\n",
      "Epoch: 13699 mean train loss:  5.14278822e-06\n",
      "Epoch: 13799 mean train loss:  5.13605041e-06\n",
      "Epoch: 13899 mean train loss:  5.12941962e-06\n",
      "Epoch: 13999 mean train loss:  5.12289493e-06\n",
      "Epoch: 14099 mean train loss:  5.11647009e-06\n",
      "Epoch: 14199 mean train loss:  5.11014553e-06\n",
      "Epoch: 14299 mean train loss:  5.10391948e-06\n",
      "Epoch: 14399 mean train loss:  5.09778789e-06\n",
      "Epoch: 14499 mean train loss:  5.09174854e-06\n",
      "Epoch: 14599 mean train loss:  5.08580097e-06\n",
      "Epoch: 14699 mean train loss:  5.07994115e-06\n",
      "Epoch: 14799 mean train loss:  5.07416820e-06\n",
      "Epoch: 14899 mean train loss:  5.06847986e-06\n",
      "Epoch: 14999 mean train loss:  5.06287390e-06\n",
      "Epoch: 15099 mean train loss:  5.05734943e-06\n",
      "Epoch: 15199 mean train loss:  5.05190600e-06\n",
      "Epoch: 15299 mean train loss:  5.04654002e-06\n",
      "Epoch: 15399 mean train loss:  5.04124837e-06\n",
      "Epoch: 15499 mean train loss:  5.03603283e-06\n",
      "Epoch: 15599 mean train loss:  5.03088982e-06\n",
      "Epoch: 15699 mean train loss:  5.02582068e-06\n",
      "Epoch: 15799 mean train loss:  5.02082095e-06\n",
      "Epoch: 15899 mean train loss:  5.01588881e-06\n",
      "Epoch: 15999 mean train loss:  5.01102608e-06\n",
      "Epoch: 16099 mean train loss:  5.00622871e-06\n",
      "Epoch: 16199 mean train loss:  5.00149895e-06\n",
      "Epoch: 16299 mean train loss:  4.99683277e-06\n",
      "Epoch: 16399 mean train loss:  4.99222882e-06\n",
      "Epoch: 16499 mean train loss:  4.98768666e-06\n",
      "Epoch: 16599 mean train loss:  4.98320718e-06\n",
      "Epoch: 16699 mean train loss:  4.97878680e-06\n",
      "Epoch: 16799 mean train loss:  4.97442730e-06\n",
      "Epoch: 16899 mean train loss:  4.97012378e-06\n",
      "Epoch: 16999 mean train loss:  4.96587980e-06\n",
      "Epoch: 17099 mean train loss:  4.96169044e-06\n",
      "Epoch: 17199 mean train loss:  4.95755839e-06\n",
      "Epoch: 17299 mean train loss:  4.95348231e-06\n",
      "Epoch: 17399 mean train loss:  4.94945458e-06\n",
      "Epoch: 17499 mean train loss:  4.94548506e-06\n",
      "Epoch: 17599 mean train loss:  4.94156658e-06\n",
      "Epoch: 17699 mean train loss:  4.93769958e-06\n",
      "Epoch: 17799 mean train loss:  4.93388228e-06\n",
      "Epoch: 17899 mean train loss:  4.93011692e-06\n",
      "Epoch: 17999 mean train loss:  4.92640215e-06\n",
      "Epoch: 18099 mean train loss:  4.92273350e-06\n",
      "Epoch: 18199 mean train loss:  4.91911544e-06\n",
      "Epoch: 18299 mean train loss:  4.91554394e-06\n",
      "Epoch: 18399 mean train loss:  4.91201901e-06\n",
      "Epoch: 18499 mean train loss:  4.90854019e-06\n",
      "Epoch: 18599 mean train loss:  4.90510659e-06\n",
      "Epoch: 18699 mean train loss:  4.90172090e-06\n",
      "Epoch: 18799 mean train loss:  4.89837774e-06\n",
      "Epoch: 18899 mean train loss:  4.89508025e-06\n",
      "Epoch: 18999 mean train loss:  4.89182396e-06\n",
      "Epoch: 19099 mean train loss:  4.88861243e-06\n",
      "Epoch: 19199 mean train loss:  4.88544388e-06\n",
      "Epoch: 19299 mean train loss:  4.88231742e-06\n",
      "Epoch: 19399 mean train loss:  4.87922992e-06\n",
      "Epoch: 19499 mean train loss:  4.87618539e-06\n",
      "Epoch: 19599 mean train loss:  4.87318027e-06\n",
      "Epoch: 19699 mean train loss:  4.87021588e-06\n",
      "Epoch: 19799 mean train loss:  4.86728732e-06\n",
      "Epoch: 19899 mean train loss:  4.86440084e-06\n",
      "Epoch: 19999 mean train loss:  4.86155331e-06\n",
      "Epoch: 20099 mean train loss:  4.85874429e-06\n",
      "Epoch: 20199 mean train loss:  4.85597288e-06\n",
      "Epoch: 20299 mean train loss:  4.85323818e-06\n",
      "Epoch: 20399 mean train loss:  4.85054019e-06\n",
      "Epoch: 20499 mean train loss:  4.84787847e-06\n",
      "Epoch: 20599 mean train loss:  4.84525257e-06\n",
      "Epoch: 20699 mean train loss:  4.84266203e-06\n",
      "Epoch: 20799 mean train loss:  4.84010642e-06\n",
      "Epoch: 20899 mean train loss:  4.83758484e-06\n",
      "Epoch: 20999 mean train loss:  4.83509728e-06\n",
      "Epoch: 21099 mean train loss:  4.83264420e-06\n",
      "Epoch: 21199 mean train loss:  4.83022336e-06\n",
      "Epoch: 21299 mean train loss:  4.82783654e-06\n",
      "Epoch: 21399 mean train loss:  4.82548195e-06\n",
      "Epoch: 21499 mean train loss:  4.82315692e-06\n",
      "Epoch: 21599 mean train loss:  4.82086592e-06\n",
      "Epoch: 21699 mean train loss:  4.81860536e-06\n",
      "Epoch: 21799 mean train loss:  4.81637882e-06\n",
      "Epoch: 21899 mean train loss:  4.81418050e-06\n",
      "Epoch: 21999 mean train loss:  4.81200814e-06\n",
      "Epoch: 22099 mean train loss:  4.80987070e-06\n",
      "Epoch: 22199 mean train loss:  4.80776103e-06\n",
      "Epoch: 22299 mean train loss:  4.80568179e-06\n",
      "Epoch: 22399 mean train loss:  4.80362943e-06\n",
      "Epoch: 22499 mean train loss:  4.80160661e-06\n",
      "Epoch: 22599 mean train loss:  4.79961199e-06\n",
      "Epoch: 22699 mean train loss:  4.79764469e-06\n",
      "Epoch: 22799 mean train loss:  4.79570426e-06\n",
      "Epoch: 22899 mean train loss:  4.79379113e-06\n",
      "Epoch: 22999 mean train loss:  4.79190397e-06\n",
      "Epoch: 23099 mean train loss:  4.79004457e-06\n",
      "Epoch: 23199 mean train loss:  4.78821069e-06\n",
      "Epoch: 23299 mean train loss:  4.78640323e-06\n",
      "Epoch: 23399 mean train loss:  4.78461995e-06\n",
      "Epoch: 23499 mean train loss:  4.78286218e-06\n",
      "Epoch: 23599 mean train loss:  4.78112904e-06\n",
      "Epoch: 23699 mean train loss:  4.77941828e-06\n",
      "Epoch: 23799 mean train loss:  4.77773260e-06\n",
      "Epoch: 23899 mean train loss:  4.77606975e-06\n",
      "Epoch: 23999 mean train loss:  4.77443019e-06\n",
      "Epoch: 24099 mean train loss:  4.77281346e-06\n",
      "Epoch: 24199 mean train loss:  4.77122000e-06\n",
      "Epoch: 24299 mean train loss:  4.76964894e-06\n",
      "Epoch: 24399 mean train loss:  4.76809802e-06\n",
      "Epoch: 24499 mean train loss:  4.76656949e-06\n",
      "Epoch: 24599 mean train loss:  4.76506200e-06\n",
      "Epoch: 24699 mean train loss:  4.76357601e-06\n",
      "Epoch: 24799 mean train loss:  4.76211060e-06\n",
      "Epoch: 24899 mean train loss:  4.76066580e-06\n",
      "Epoch: 24999 mean train loss:  4.75924069e-06\n",
      "Epoch: 25099 mean train loss:  4.75783618e-06\n",
      "Epoch: 25199 mean train loss:  4.75645182e-06\n",
      "Epoch: 25299 mean train loss:  4.75508671e-06\n",
      "Epoch: 25399 mean train loss:  4.75374085e-06\n",
      "Epoch: 25499 mean train loss:  4.75241424e-06\n",
      "Epoch: 25599 mean train loss:  4.75110509e-06\n",
      "Epoch: 25699 mean train loss:  4.74981475e-06\n",
      "Epoch: 25799 mean train loss:  4.74854187e-06\n",
      "Epoch: 25899 mean train loss:  4.74728780e-06\n",
      "Epoch: 25999 mean train loss:  4.74605252e-06\n",
      "Epoch: 26099 mean train loss:  4.74483382e-06\n",
      "Epoch: 26199 mean train loss:  4.74363257e-06\n",
      "Epoch: 26299 mean train loss:  4.74244834e-06\n",
      "Epoch: 26399 mean train loss:  4.74128023e-06\n",
      "Epoch: 26499 mean train loss:  4.74012868e-06\n",
      "Epoch: 26599 mean train loss:  4.73899325e-06\n",
      "Epoch: 26699 mean train loss:  4.73787350e-06\n",
      "Epoch: 26799 mean train loss:  4.73676896e-06\n",
      "Epoch: 26899 mean train loss:  4.73568144e-06\n",
      "Epoch: 26999 mean train loss:  4.73460645e-06\n",
      "Epoch: 27099 mean train loss:  4.73354848e-06\n",
      "Epoch: 27199 mean train loss:  4.73250528e-06\n",
      "Epoch: 27299 mean train loss:  4.73147641e-06\n",
      "Epoch: 27399 mean train loss:  4.73046366e-06\n",
      "Epoch: 27499 mean train loss:  4.72946344e-06\n",
      "Epoch: 27599 mean train loss:  4.72847711e-06\n",
      "Epoch: 27699 mean train loss:  4.72750554e-06\n",
      "Epoch: 27799 mean train loss:  4.72654831e-06\n",
      "Epoch: 27899 mean train loss:  4.72560227e-06\n",
      "Epoch: 27999 mean train loss:  4.72467100e-06\n",
      "Epoch: 28099 mean train loss:  4.72375272e-06\n",
      "Epoch: 28199 mean train loss:  4.72284742e-06\n",
      "Epoch: 28299 mean train loss:  4.72195421e-06\n",
      "Epoch: 28399 mean train loss:  4.72107443e-06\n",
      "Epoch: 28499 mean train loss:  4.72020585e-06\n",
      "Epoch: 28599 mean train loss:  4.71935159e-06\n",
      "Epoch: 28699 mean train loss:  4.71850897e-06\n",
      "Epoch: 28799 mean train loss:  4.71767934e-06\n",
      "Epoch: 28899 mean train loss:  4.71685911e-06\n",
      "Epoch: 28999 mean train loss:  4.71605096e-06\n",
      "Epoch: 29099 mean train loss:  4.71525581e-06\n",
      "Epoch: 29199 mean train loss:  4.71447184e-06\n",
      "Epoch: 29299 mean train loss:  4.71369593e-06\n",
      "Epoch: 29399 mean train loss:  4.71293167e-06\n",
      "Epoch: 29499 mean train loss:  4.71217904e-06\n",
      "Epoch: 29599 mean train loss:  4.71143806e-06\n",
      "Epoch: 29699 mean train loss:  4.71070648e-06\n",
      "Epoch: 29799 mean train loss:  4.70998430e-06\n",
      "Epoch: 29899 mean train loss:  4.70927466e-06\n",
      "Epoch: 29999 mean train loss:  4.70857307e-06\n"
     ]
    }
   ],
   "source": [
    "losses_train = train(net, loaders, args, A)"
   ]
  },
  {
   "cell_type": "code",
   "execution_count": 17,
   "metadata": {},
   "outputs": [],
   "source": [
    "np.save(f'NN_library/training_data/MN_{total_params}', losses_train)"
   ]
  },
  {
   "cell_type": "code",
   "execution_count": 16,
   "metadata": {
    "scrolled": true
   },
   "outputs": [
    {
     "data": {
      "image/png": "[encoded data removed]",
      "text/plain": [
       "<Figure size 640x480 with 1 Axes>"
      ]
     },
     "metadata": {},
     "output_type": "display_data"
    }
   ],
   "source": [
    "plt.plot(losses_train)\n",
    "plt.xlabel('epoch')\n",
    "plt.legend(['train'])\n",
    "plt.yscale('log')"
   ]
  },
  {
   "cell_type": "code",
   "execution_count": 18,
   "metadata": {},
   "outputs": [],
   "source": [
    "a_numpy = a_function(XY[0].flatten(), XY[1].flatten())\n",
    "a_torch = torch.tensor(a_numpy, device=dev, dtype=torch.float).view(-1,1)\n",
    "mat_err = net(grid_data).detach().cpu() - A(grid_data).detach().cpu()"
   ]
  },
  {
   "cell_type": "code",
   "execution_count": 22,
   "metadata": {},
   "outputs": [
    {
     "data": {
      "text/plain": [
       "<matplotlib.colorbar.Colorbar at 0x223db53b790>"
      ]
     },
     "execution_count": 22,
     "metadata": {},
     "output_type": "execute_result"
    },
    {
     "data": {
      "image/png": "[encoded data removed]",
      "text/plain": [
       "<Figure size 1250x500 with 4 Axes>"
      ]
     },
     "metadata": {},
     "output_type": "display_data"
    }
   ],
   "source": [
    "fig, axs = plt.subplots(nrows=1, ncols=2, figsize=(12.5,5))\n",
    "pos1 = axs[0].pcolormesh(XY[0], XY[1], mat_err.reshape(N, N))\n",
    "fig.colorbar(pos1)\n",
    "pos2 = axs[1].pcolormesh(XY[0], XY[1], 0.1 + 0.9*net(grid_data).detach().cpu().reshape(N, N))\n",
    "fig.colorbar(pos2)"
   ]
  }
 ],
 "metadata": {
  "kernelspec": {
   "display_name": "Python 3",
   "language": "python",
   "name": "python3"
  },
  "language_info": {
   "codemirror_mode": {
    "name": "ipython",
    "version": 3
   },
   "file_extension": ".py",
   "mimetype": "text/x-python",
   "name": "python",
   "nbconvert_exporter": "python",
   "pygments_lexer": "ipython3",
   "version": "3.11.5"
  }
 },
 "nbformat": 4,
 "nbformat_minor": 2
}
